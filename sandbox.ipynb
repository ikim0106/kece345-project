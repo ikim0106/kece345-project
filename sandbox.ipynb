{
 "cells": [
  {
   "cell_type": "code",
   "execution_count": 1,
   "metadata": {},
   "outputs": [],
   "source": [
    "import torch\n",
    "import torch.nn as nn\n",
    "import torch.nn.functional as F\n",
    "import torchvision\n",
    "import torchvision.transforms as transforms\n",
    "import pandas as pd\n",
    "import os\n",
    "import matplotlib.pyplot as plt\n",
    "import matplotlib.image as mpimg\n",
    "import cv2"
   ]
  },
  {
   "cell_type": "code",
   "execution_count": 17,
   "metadata": {},
   "outputs": [
    {
     "name": "stdout",
     "output_type": "stream",
     "text": [
      "Requirement already satisfied: roboflow in c:\\users\\ikim0\\appdata\\local\\programs\\python\\python311\\lib\\site-packages (1.0.8)\n",
      "Requirement already satisfied: certifi==2022.12.7 in c:\\users\\ikim0\\appdata\\local\\programs\\python\\python311\\lib\\site-packages (from roboflow) (2022.12.7)\n",
      "Requirement already satisfied: chardet==4.0.0 in c:\\users\\ikim0\\appdata\\local\\programs\\python\\python311\\lib\\site-packages (from roboflow) (4.0.0)\n",
      "Requirement already satisfied: cycler==0.10.0 in c:\\users\\ikim0\\appdata\\local\\programs\\python\\python311\\lib\\site-packages (from roboflow) (0.10.0)\n",
      "Requirement already satisfied: idna==2.10 in c:\\users\\ikim0\\appdata\\local\\programs\\python\\python311\\lib\\site-packages (from roboflow) (2.10)\n",
      "Requirement already satisfied: kiwisolver>=1.3.1 in c:\\users\\ikim0\\appdata\\local\\programs\\python\\python311\\lib\\site-packages (from roboflow) (1.4.4)\n",
      "Requirement already satisfied: matplotlib in c:\\users\\ikim0\\appdata\\local\\programs\\python\\python311\\lib\\site-packages (from roboflow) (3.7.1)\n",
      "Requirement already satisfied: numpy>=1.18.5 in c:\\users\\ikim0\\appdata\\local\\programs\\python\\python311\\lib\\site-packages (from roboflow) (1.24.3)\n",
      "Requirement already satisfied: opencv-python>=4.1.2 in c:\\users\\ikim0\\appdata\\local\\programs\\python\\python311\\lib\\site-packages (from roboflow) (4.7.0.72)\n",
      "Requirement already satisfied: Pillow>=7.1.2 in c:\\users\\ikim0\\appdata\\local\\programs\\python\\python311\\lib\\site-packages (from roboflow) (9.5.0)\n",
      "Requirement already satisfied: pyparsing==2.4.7 in c:\\users\\ikim0\\appdata\\local\\programs\\python\\python311\\lib\\site-packages (from roboflow) (2.4.7)\n",
      "Requirement already satisfied: python-dateutil in c:\\users\\ikim0\\appdata\\roaming\\python\\python311\\site-packages (from roboflow) (2.8.2)\n",
      "Requirement already satisfied: python-dotenv in c:\\users\\ikim0\\appdata\\local\\programs\\python\\python311\\lib\\site-packages (from roboflow) (1.0.0)\n",
      "Requirement already satisfied: requests in c:\\users\\ikim0\\appdata\\local\\programs\\python\\python311\\lib\\site-packages (from roboflow) (2.30.0)\n",
      "Requirement already satisfied: six in c:\\users\\ikim0\\appdata\\roaming\\python\\python311\\site-packages (from roboflow) (1.16.0)\n",
      "Requirement already satisfied: urllib3>=1.26.6 in c:\\users\\ikim0\\appdata\\local\\programs\\python\\python311\\lib\\site-packages (from roboflow) (2.0.2)\n",
      "Requirement already satisfied: wget in c:\\users\\ikim0\\appdata\\local\\programs\\python\\python311\\lib\\site-packages (from roboflow) (3.2)\n",
      "Requirement already satisfied: tqdm>=4.41.0 in c:\\users\\ikim0\\appdata\\local\\programs\\python\\python311\\lib\\site-packages (from roboflow) (4.65.0)\n",
      "Requirement already satisfied: PyYAML>=5.3.1 in c:\\users\\ikim0\\appdata\\local\\programs\\python\\python311\\lib\\site-packages (from roboflow) (6.0)\n",
      "Requirement already satisfied: requests-toolbelt in c:\\users\\ikim0\\appdata\\local\\programs\\python\\python311\\lib\\site-packages (from roboflow) (1.0.0)\n",
      "Requirement already satisfied: colorama in c:\\users\\ikim0\\appdata\\roaming\\python\\python311\\site-packages (from tqdm>=4.41.0->roboflow) (0.4.6)\n",
      "Requirement already satisfied: contourpy>=1.0.1 in c:\\users\\ikim0\\appdata\\local\\programs\\python\\python311\\lib\\site-packages (from matplotlib->roboflow) (1.0.7)\n",
      "Requirement already satisfied: fonttools>=4.22.0 in c:\\users\\ikim0\\appdata\\local\\programs\\python\\python311\\lib\\site-packages (from matplotlib->roboflow) (4.39.4)\n",
      "Requirement already satisfied: packaging>=20.0 in c:\\users\\ikim0\\appdata\\roaming\\python\\python311\\site-packages (from matplotlib->roboflow) (23.0)\n",
      "Requirement already satisfied: charset-normalizer<4,>=2 in c:\\users\\ikim0\\appdata\\local\\programs\\python\\python311\\lib\\site-packages (from requests->roboflow) (3.1.0)\n",
      "Note: you may need to restart the kernel to use updated packages.\n",
      "loading Roboflow workspace...\n",
      "loading Roboflow project...\n",
      "Downloading Dataset Version Zip in 2D-Chessboard-and-Chess-Pieces-4 to tensorflow: 100% [254846569 / 254846569] bytes\n"
     ]
    },
    {
     "name": "stderr",
     "output_type": "stream",
     "text": [
      "Extracting Dataset Version Zip to 2D-Chessboard-and-Chess-Pieces-4 in tensorflow:: 100%|██████████| 5008/5008 [00:05<00:00, 929.23it/s] \n"
     ]
    }
   ],
   "source": [
    "%pip install roboflow\n",
    "\n",
    "from roboflow import Roboflow\n",
    "rf = Roboflow(api_key=\"Ug8A6Sdpncu1HNsGIV41\")\n",
    "project = rf.workspace(\"chess-project\").project(\"2d-chessboard-and-chess-pieces\")\n",
    "dataset = project.version(4).download(\"tensorflow\")\n"
   ]
  },
  {
   "cell_type": "code",
   "execution_count": 11,
   "metadata": {},
   "outputs": [],
   "source": [
    "# import random\n",
    "\n",
    "# random.seed(48198)\n",
    "# print(random.randint(1, 500))\n",
    "\n",
    "# training_data_path = './2D-Chessboard-and-Chess-Pieces-4/train/'\n",
    "# testing_data_path = './2D-Chessboard-and-Chess-Pieces-4/test/'\n",
    "# validation_data_path = './2D-Chessboard-and-Chess-Pieces-4/valid/'\n",
    "\n",
    "# training_annotations = pd.read_csv('2D-Chessboard-and-Chess-Pieces-4/train/_annotations.csv')\n",
    "# testing_annotations = pd.read_csv('./2D-Chessboard-and-Chess-Pieces-4/test/_annotations.csv')\n",
    "\n",
    "# temp_path = training_annotations[\"filename\"][random.randint(1, 500)]\n",
    "\n",
    "# training_dir = os.path.join(training_data_path, temp_path)\n",
    "# training_dir\n",
    "# img = cv2.imread(training_dir)\n",
    "# imgplot = plt.imshow(img)\n",
    "# plt.show()\n",
    "# print(training_dir)"
   ]
  },
  {
   "cell_type": "code",
   "execution_count": 12,
   "metadata": {},
   "outputs": [
    {
     "name": "stdout",
     "output_type": "stream",
     "text": [
      "Downloading http://yann.lecun.com/exdb/mnist/train-images-idx3-ubyte.gz\n",
      "Downloading http://yann.lecun.com/exdb/mnist/train-images-idx3-ubyte.gz to ./data\\MNIST\\raw\\train-images-idx3-ubyte.gz\n"
     ]
    },
    {
     "name": "stderr",
     "output_type": "stream",
     "text": [
      "100%|██████████| 9912422/9912422 [00:03<00:00, 3071157.69it/s]\n"
     ]
    },
    {
     "name": "stdout",
     "output_type": "stream",
     "text": [
      "Extracting ./data\\MNIST\\raw\\train-images-idx3-ubyte.gz to ./data\\MNIST\\raw\n",
      "\n",
      "Downloading http://yann.lecun.com/exdb/mnist/train-labels-idx1-ubyte.gz\n",
      "Downloading http://yann.lecun.com/exdb/mnist/train-labels-idx1-ubyte.gz to ./data\\MNIST\\raw\\train-labels-idx1-ubyte.gz\n"
     ]
    },
    {
     "name": "stderr",
     "output_type": "stream",
     "text": [
      "100%|██████████| 28881/28881 [00:00<00:00, 70776.59it/s]\n"
     ]
    },
    {
     "name": "stdout",
     "output_type": "stream",
     "text": [
      "Extracting ./data\\MNIST\\raw\\train-labels-idx1-ubyte.gz to ./data\\MNIST\\raw\n",
      "\n",
      "Downloading http://yann.lecun.com/exdb/mnist/t10k-images-idx3-ubyte.gz\n",
      "Downloading http://yann.lecun.com/exdb/mnist/t10k-images-idx3-ubyte.gz to ./data\\MNIST\\raw\\t10k-images-idx3-ubyte.gz\n"
     ]
    },
    {
     "name": "stderr",
     "output_type": "stream",
     "text": [
      "100%|██████████| 1648877/1648877 [00:00<00:00, 5672850.68it/s]\n"
     ]
    },
    {
     "name": "stdout",
     "output_type": "stream",
     "text": [
      "Extracting ./data\\MNIST\\raw\\t10k-images-idx3-ubyte.gz to ./data\\MNIST\\raw\n",
      "\n",
      "Downloading http://yann.lecun.com/exdb/mnist/t10k-labels-idx1-ubyte.gz\n",
      "Downloading http://yann.lecun.com/exdb/mnist/t10k-labels-idx1-ubyte.gz to ./data\\MNIST\\raw\\t10k-labels-idx1-ubyte.gz\n"
     ]
    },
    {
     "name": "stderr",
     "output_type": "stream",
     "text": [
      "100%|██████████| 4542/4542 [00:00<?, ?it/s]"
     ]
    },
    {
     "name": "stdout",
     "output_type": "stream",
     "text": [
      "Extracting ./data\\MNIST\\raw\\t10k-labels-idx1-ubyte.gz to ./data\\MNIST\\raw\n",
      "\n"
     ]
    },
    {
     "name": "stderr",
     "output_type": "stream",
     "text": [
      "\n"
     ]
    }
   ],
   "source": [
    "BATCH_SIZE = 32\n",
    "\n",
    "## transformations\n",
    "transform = transforms.Compose([\n",
    "    transforms.ToTensor()\n",
    "    ])\n",
    "\n",
    "\n",
    "# download and load training dataset\n",
    "train_dataset = torchvision.datasets.MNIST(root='./data', train=True,\n",
    "                                        download=True, transform=transform)\n",
    "train_loader = torch.utils.data.DataLoader(train_dataset, batch_size=BATCH_SIZE,\n",
    "                                          shuffle=True, num_workers=1)\n",
    "\n",
    "## download and load testing dataset\n",
    "test_dataset = torchvision.datasets.MNIST(root='./data', train=False,\n",
    "                                       download=True, transform=transform)\n",
    "test_loader = torch.utils.data.DataLoader(test_dataset, batch_size=BATCH_SIZE,\n",
    "                                         shuffle=False, num_workers=1)"
   ]
  },
  {
   "cell_type": "code",
   "execution_count": 13,
   "metadata": {},
   "outputs": [
    {
     "name": "stdout",
     "output_type": "stream",
     "text": [
      "Training Dataset: \n",
      " Dataset MNIST\n",
      "    Number of datapoints: 60000\n",
      "    Root location: ./data\n",
      "    Split: Train\n",
      "    StandardTransform\n",
      "Transform: Compose(\n",
      "               ToTensor()\n",
      "           )\n",
      "\n",
      "Test Dataset: \n",
      " Dataset MNIST\n",
      "    Number of datapoints: 10000\n",
      "    Root location: ./data\n",
      "    Split: Test\n",
      "    StandardTransform\n",
      "Transform: Compose(\n",
      "               ToTensor()\n",
      "           )\n"
     ]
    }
   ],
   "source": [
    "print('Training Dataset: \\n', train_dataset)\n",
    "print('\\nTest Dataset: \\n', test_dataset)"
   ]
  },
  {
   "cell_type": "code",
   "execution_count": 16,
   "metadata": {},
   "outputs": [
    {
     "data": {
      "image/png": "[encoded data removed]",
      "text/plain": [
       "<Figure size 640x480 with 1 Axes>"
      ]
     },
     "metadata": {},
     "output_type": "display_data"
    }
   ],
   "source": [
    "import matplotlib.pyplot as plt\n",
    "import numpy as np\n",
    "\n",
    "## get some random training images\n",
    "images, labels = next(iter(train_loader))\n",
    "\n",
    "## show images\n",
    "images_grid = torchvision.utils.make_grid(images)\n",
    "plt.imshow(np.transpose(images_grid.numpy(), (1, 2, 0)))\n",
    "plt.axis('off')\n",
    "plt.show()"
   ]
  },
  {
   "cell_type": "code",
   "execution_count": null,
   "metadata": {},
   "outputs": [
    {
     "name": "stdout",
     "output_type": "stream",
     "text": [
      "Train - image batch dimensions: torch.Size([32, 1, 28, 28])\n",
      "Train - image label dimensions: torch.Size([32])\n",
      "Test - image batch dimensions: torch.Size([32, 1, 28, 28])\n",
      "Test - image label dimensions: torch.Size([32])\n"
     ]
    }
   ],
   "source": [
    "for images, labels in train_loader:\n",
    "    print(\"Train - image batch dimensions:\", images.shape)\n",
    "    print(\"Train - image label dimensions:\", labels.shape)\n",
    "    break\n",
    "\n",
    "for images, labels in test_loader:\n",
    "    print(\"Test - image batch dimensions:\", images.shape)\n",
    "    print(\"Test - image label dimensions:\", labels.shape)\n",
    "    break"
   ]
  },
  {
   "cell_type": "code",
   "execution_count": null,
   "metadata": {},
   "outputs": [],
   "source": [
    "class SimpleModel(nn.Module):\n",
    "    def __init__(self):\n",
    "        super(SimpleModel, self).__init__()\n",
    "\n",
    "        self.conv_layer = nn.Conv2d(in_channels=1, out_channels=32, kernel_size=3)\n",
    "        self.fc_layer1 = nn.Linear(26 * 26 * 32, 128)\n",
    "        self.fc_layer2 = nn.Linear(128, 10)\n",
    "\n",
    "    def forward(self, x):\n",
    "        # input: 32x1x28x28 -> output: 32x32x26x26\n",
    "        x = self.conv_layer(x)\n",
    "        x = F.relu(x)\n",
    "\n",
    "        # input: 32x32x26x26 -> output: 32x(32*26*26)\n",
    "        x = x.flatten(start_dim = 1)\n",
    "\n",
    "        # input: 32x(32*26*26) -> output: 32x128\n",
    "        x = self.fc_layer1(x)\n",
    "        x = F.relu(x)\n",
    "\n",
    "        # input: 32x128 -> output: 32x10 (32 images, 10 classes)\n",
    "        x = self.fc_layer2(x)\n",
    "        out = F.softmax(x, dim=1)\n",
    "        return out"
   ]
  },
  {
   "cell_type": "code",
   "execution_count": null,
   "metadata": {},
   "outputs": [
    {
     "name": "stdout",
     "output_type": "stream",
     "text": [
      "batch size: torch.Size([32, 1, 28, 28])\n",
      "torch.Size([32, 10])\n"
     ]
    }
   ],
   "source": [
    "model = SimpleModel()\n",
    "for images, labels in train_loader:\n",
    "    print(\"batch size:\", images.shape)\n",
    "    out = model(images)\n",
    "    print(out.shape)\n",
    "    break"
   ]
  },
  {
   "cell_type": "code",
   "execution_count": null,
   "metadata": {},
   "outputs": [],
   "source": [
    "def train_model(model, loss_fn, optimizer, data_loader, num_epochs, device):\n",
    "\n",
    "  for epoch in range(num_epochs):\n",
    "    train_loss = 0.0\n",
    "    train_corr, train_n = 0, 0\n",
    "\n",
    "    model.train()\n",
    "    for i, (images, labels) in enumerate(data_loader):\n",
    "        \n",
    "      images = images.to(device)\n",
    "      labels = labels.to(device)\n",
    "\n",
    "      optimizer.zero_grad()     # zero the gradients (by default it adds up)\n",
    "\n",
    "      ## forward + backprop + loss\n",
    "      outputs = model(images)\n",
    "      loss = loss_fn(outputs, labels)\n",
    "      loss.backward()\n",
    "\n",
    "      ## update model params\n",
    "      optimizer.step()\n",
    "\n",
    "      _, preds = torch.max(outputs, 1)\n",
    "      train_corr += torch.sum(preds == labels).item()\n",
    "      train_n += labels.size(0)\n",
    "\n",
    "      train_loss += loss.item()\n",
    "    \n",
    "    print('Epoch: %d | Loss: %.4f | Train Acc: %.2f%%' \\\n",
    "          %(epoch, train_loss / i, train_corr / train_n * 100))\n",
    "      \n",
    "  return model"
   ]
  },
  {
   "cell_type": "code",
   "execution_count": null,
   "metadata": {},
   "outputs": [
    {
     "data": {
      "text/plain": [
       "device(type='cuda')"
      ]
     },
     "execution_count": 16,
     "metadata": {},
     "output_type": "execute_result"
    }
   ],
   "source": [
    "learning_rate = 0.005\n",
    "num_epochs = 5\n",
    "\n",
    "device = torch.device(\"cuda\" if torch.cuda.is_available() else \"cpu\")\n",
    "model = SimpleModel()\n",
    "model = model.to(device)\n",
    "\n",
    "## loss function\n",
    "loss_fn = nn.CrossEntropyLoss()\n",
    "## optimization\n",
    "optimizer = torch.optim.SGD(model.parameters(), lr=learning_rate, momentum=0.9)\n",
    "\n",
    "device"
   ]
  },
  {
   "cell_type": "code",
   "execution_count": null,
   "metadata": {},
   "outputs": [
    {
     "name": "stdout",
     "output_type": "stream",
     "text": [
      "Epoch: 0 | Loss: 1.6382 | Train Acc: 84.80%\n",
      "Epoch: 1 | Loss: 1.5353 | Train Acc: 93.11%\n",
      "Epoch: 2 | Loss: 1.5176 | Train Acc: 94.78%\n",
      "Epoch: 3 | Loss: 1.5074 | Train Acc: 95.70%\n",
      "Epoch: 4 | Loss: 1.5002 | Train Acc: 96.42%\n"
     ]
    }
   ],
   "source": [
    "model = train_model(model, loss_fn, optimizer, train_loader, num_epochs, device)"
   ]
  },
  {
   "cell_type": "code",
   "execution_count": null,
   "metadata": {},
   "outputs": [],
   "source": [
    "def test_model(model, data_loader):\n",
    "  model.eval()         # Set the model to evaluation mode\n",
    "\n",
    "  correct = 0\n",
    "  n = 0\n",
    "  with torch.no_grad():   # disable gradient calculation, reduce memory usage \n",
    "    for i, (images, labels) in enumerate(data_loader):\n",
    "        \n",
    "      images = images.to(device)\n",
    "      labels = labels.to(device)\n",
    "\n",
    "      # zero the gradients\n",
    "      optimizer.zero_grad()\n",
    "\n",
    "      output = model(images)\n",
    "      _, pred = torch.max(output, 1)\n",
    "\n",
    "      correct += torch.sum(pred == labels).item()\n",
    "      n += labels.size(0)\n",
    "\n",
    "  acc = correct / n\n",
    "\n",
    "  return acc"
   ]
  },
  {
   "cell_type": "code",
   "execution_count": null,
   "metadata": {},
   "outputs": [
    {
     "name": "stdout",
     "output_type": "stream",
     "text": [
      "Test Accuracy: 95.62\n"
     ]
    }
   ],
   "source": [
    "acc_ts = test_model(model, test_loader)\n",
    "\n",
    "print('Test Accuracy: %.2f'%( acc_ts * 100))"
   ]
  },
  {
   "cell_type": "code",
   "execution_count": null,
   "metadata": {},
   "outputs": [],
   "source": [
    "learning_rate = 0.001\n",
    "num_epochs = 5\n",
    "\n",
    "device = torch.device(\"cuda\" if torch.cuda.is_available() else \"cpu\")\n",
    "model = SimpleModel()\n",
    "model = model.to(device)\n",
    "\n",
    "## loss function\n",
    "loss_fn = nn.CrossEntropyLoss()\n",
    "## optimization\n",
    "# optimizer = torch.optim.RMSprop(model.parameters(), lr=learning_rate, alpha=0.99)\n",
    "optimizer = torch.optim.Adam(model.parameters(), lr=learning_rate, betas=(0.9, 0.999))"
   ]
  },
  {
   "cell_type": "code",
   "execution_count": null,
   "metadata": {},
   "outputs": [
    {
     "name": "stdout",
     "output_type": "stream",
     "text": [
      "Epoch: 0 | Loss: 1.6214 | Train Acc: 84.40%\n",
      "Epoch: 1 | Loss: 1.4916 | Train Acc: 97.22%\n",
      "Epoch: 2 | Loss: 1.4823 | Train Acc: 98.11%\n",
      "Epoch: 3 | Loss: 1.4782 | Train Acc: 98.47%\n",
      "Epoch: 4 | Loss: 1.4750 | Train Acc: 98.74%\n",
      "Test Accuracy: 97.93\n"
     ]
    }
   ],
   "source": [
    "model = train_model(model, loss_fn, optimizer, train_loader, num_epochs, device)\n",
    "\n",
    "acc_ts = test_model(model, test_loader)\n",
    "\n",
    "print('Test Accuracy: %.2f'%( acc_ts * 100))"
   ]
  }
 ],
 "metadata": {
  "kernelspec": {
   "display_name": "Python 3",
   "language": "python",
   "name": "python3"
  },
  "language_info": {
   "codemirror_mode": {
    "name": "ipython",
    "version": 3
   },
   "file_extension": ".py",
   "mimetype": "text/x-python",
   "name": "python",
   "nbconvert_exporter": "python",
   "pygments_lexer": "ipython3",
   "version": "3.11.3"
  },
  "orig_nbformat": 4
 },
 "nbformat": 4,
 "nbformat_minor": 2
}
